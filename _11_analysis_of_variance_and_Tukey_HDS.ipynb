{
 "cells": [
  {
   "cell_type": "markdown",
   "id": "8b896763",
   "metadata": {
    "deletable": false,
    "editable": false,
    "nbgrader": {
     "cell_type": "markdown",
     "checksum": "ff0bc2c9546dc7416a62ab1f8e86fe5a",
     "grade": false,
     "grade_id": "cell-fcd2666579131b77",
     "locked": true,
     "schema_version": 3,
     "solution": false,
     "task": false
    },
    "tags": []
   },
   "source": [
    "# Statystyka matematyczna - ćwiczenia laboratoryjne 2023/2024\n",
    "\n",
    "Ten notatnik zalicza się do grupy zestawów zadań, na podstawie których odbywa się zaliczenie ćwiczeń i podlega zwrotowi do oceny w ustalonym na zajęciach terminie.\n",
    "\n",
    "Uwagi i wytyczne ogólne dotyczące uzupełniania notatnika:\n",
    "- Podczas wykonywania zadań należy korzystać wyłącznie z pakietów zaimportowanych na początku notatnika oraz z pakietów wchodzących w skład standardowej biblioteki Pythona, które można zaimportować samodzielnie we wskazanej komórce notatnika.\n",
    "- Swoje rozwiązania należy wprowadzać wyłącznie w miejce następujących fragmentów kodu:<br/> `# YOUR CODE HERE`<br/> `raise NotImplementedError()`<br/> \n",
    "a odpowiedzi tekstowe w komórkach oznaczonych hasłem:<br/> \n",
    "`YOUR ANSWER HERE`<br/> \n",
    "Nie należy w żaden sposób modyfikować pozostałych fragmentów kodu oraz innych elementów notatnika, w szczególności dodawać lub usuwać komórek oraz zmieniać nazwy pliku.\n",
    "- Otrzymywane wyniki i odpowiedzi mają być rezultatem wykonania napisanego kodu.\n",
    "- Zadanie należy wykonać w taki sposób, aby podczas wykonywania kodu nie zostały wyświetlone żadne ostrzeżenia.\n",
    "- Zawarte w notatniku automatyczne testy mają charakter poglądowy. Dotyczą one wybranych aspektów zadań i mają za zadanie wyłapać podstawowe błędy. Przejście wszystkich testów nie oznacza, że zadanie jest wykonane w całości poprawnie.\n",
    "\n",
    "Uwagi i wytyczne ogólne dotyczące wizualizacji wyników:\n",
    "- Wszystkie wykresy powinny być wykonane w jednolitym, przejrzystym i czytelnym stylu, posiadać odpowiednio dobrane proporcje i zakresy wartości osi.\n",
    "- Wykresy oraz ich osie powinny mieć nadane tytuły. Jeżeli w obrębie figury znajduje się więcej niż jeden wykres to figura również powinna mieć nadany tytuł. \n",
    "- Figury powinny mieć ustawione białe tło, tak, aby niezależnie od ustawień notatnika wszystkie elementy wykresów były dobrze widoczne (domyślnie tło jest przeźroczyste co może powodować problemy w notatnikach z ustawionym ciemnym tłem).\n",
    "- Rozmiar poziomy figur nie powinien przekraczać 20 cali.\n",
    "\n",
    "Przed odesłaniem zestawu zadań do oceny proszę uzupełnić komórkę z danymi autorów rozwiązania (nazwa zespołu oraz imiona, nazwiska i numery indeksów członków zespołu) oraz upewnić się, że notatnik działa zgodnie z oczekiwaniami. W tym celu należy skorzystać z opcji **Restart Kernel and Run All Cells...** dostępnej na górnej belce notatnika pod symbolem $\\blacktriangleright\\blacktriangleright$."
   ]
  },
  {
   "cell_type": "markdown",
   "id": "e6b278c2",
   "metadata": {},
   "source": [
    "Nazwa zespołu: 2.21 Członkowie: Dominik Sakłaski - 415120 Dominika Pudło - 415180 Karolina Murzyn - 409892 Jan Dworak - 412302"
   ]
  },
  {
   "cell_type": "markdown",
   "id": "4b568b41",
   "metadata": {
    "deletable": false,
    "editable": false,
    "nbgrader": {
     "cell_type": "markdown",
     "checksum": "eddc8826810e4a6f7bf68319da334bd9",
     "grade": false,
     "grade_id": "cell-109006d425e5cf83",
     "locked": true,
     "schema_version": 3,
     "solution": false,
     "task": false
    },
    "tags": []
   },
   "source": [
    "---"
   ]
  },
  {
   "cell_type": "markdown",
   "id": "e64f067c-c7df-4b7a-bb7c-f25a98a0d3ad",
   "metadata": {
    "deletable": false,
    "editable": false,
    "nbgrader": {
     "cell_type": "markdown",
     "checksum": "9a196c67e6095c22b2a206b30d23b410",
     "grade": false,
     "grade_id": "cell-1652a660f1e59fd6",
     "locked": true,
     "schema_version": 3,
     "solution": false,
     "task": false
    },
    "tags": []
   },
   "source": [
    "# Zestaw zadań 12: Analiza wariancji"
   ]
  },
  {
   "cell_type": "code",
   "execution_count": 1,
   "id": "b8e33821-0d74-4349-836a-270011b3f861",
   "metadata": {
    "deletable": false,
    "editable": false,
    "nbgrader": {
     "cell_type": "code",
     "checksum": "d50dad28a51bd4e756e2842bfd8c9e5c",
     "grade": false,
     "grade_id": "cell-f5383648c5fad8f2",
     "locked": true,
     "schema_version": 3,
     "solution": false,
     "task": false
    },
    "tags": []
   },
   "outputs": [],
   "source": [
    "import numpy as np\n",
    "import pandas as pd\n",
    "import scipy as sp\n",
    "import matplotlib as mpl\n",
    "import matplotlib.pyplot as plt\n",
    "import seaborn as sns"
   ]
  },
  {
   "cell_type": "code",
   "execution_count": 2,
   "id": "751a1e92-0a57-4b56-b06b-1f4f0f7f0364",
   "metadata": {},
   "outputs": [],
   "source": [
    "# Miejsce do importu pakietów wchodzących w skład standardowej biblioteki Pythona oraz ustawienie opcji wykorzystywanych pakietów\n",
    "from scipy.stats import f_oneway"
   ]
  },
  {
   "cell_type": "markdown",
   "id": "92176051-5b81-4c48-ba83-32e9793e82db",
   "metadata": {
    "deletable": false,
    "editable": false,
    "nbgrader": {
     "cell_type": "markdown",
     "checksum": "a945462821ba7c449e1c68d9710a1e17",
     "grade": false,
     "grade_id": "cell-1a9b4f5270893d4c",
     "locked": true,
     "schema_version": 3,
     "solution": false,
     "task": false
    },
    "tags": []
   },
   "source": [
    "### Funkcje do wykorzystania"
   ]
  },
  {
   "cell_type": "code",
   "execution_count": 3,
   "id": "d2231d9e-4ccb-4cde-a439-6a122de9bd91",
   "metadata": {
    "deletable": false,
    "editable": false,
    "nbgrader": {
     "cell_type": "code",
     "checksum": "52804578305ab64d5792ca1f7fd40731",
     "grade": false,
     "grade_id": "cell-ae31470c5289161a",
     "locked": true,
     "schema_version": 3,
     "solution": false,
     "task": false
    },
    "tags": []
   },
   "outputs": [],
   "source": [
    "def vizualize_test_result(pdf, statistic, rejection_region):\n",
    "    \"\"\"\n",
    "    Parameters\n",
    "    -------\n",
    "    pdf: pandas.DataFrame\n",
    "        Tablica zawierająca informacje niezbędne do wykreślenia funkcji gęstości prawdopodobieństwa wykorzystywanego w teście rozkładu\n",
    "        teoretycznego - index z wariantami zmiennej losowej i nadaną nazwą zmiennej (np. x) oraz pojedynczą kolumnę z wartościami\n",
    "        gęstościami prawdopodobieństwa wyliczonymi dla poszczególnych wariantów o nadanej nazwie bazującej na nazwie zmiennej (np. f(x)).\n",
    "    statistic: float\n",
    "        Wartość statystyki testowej wyliczonej na podstawie próby losowej.\n",
    "    rejection_region: list\n",
    "        Lista zawierająca trzy elementy pozwalające na określenie obszaru krytycznego w następującej kolejności:\n",
    "         - wartość dolnej granicy przedziału,\n",
    "         - wartość górnej granicy przedziału,\n",
    "         - \"inner\" lub \"outer\" w zależności od tego, czy ma być zakolorowana wewnętrzna, czy zewnętrzna część przedziału.\n",
    "    \"\"\"\n",
    "    pdf_name= pdf.columns[0]\n",
    "    \n",
    "    fig, axes = plt.subplots(1, 1, figsize=(8, 3), facecolor='white')\n",
    "\n",
    "    axes.plot(pdf.index, pdf[pdf_name], color=\"grey\")\n",
    "\n",
    "    if rejection_region[2]==\"inner\":\n",
    "        axes.fill_between(pdf.index, pdf[pdf_name], 0, where=((pdf.index > rejection_region[0]) & (pdf.index<rejection_region[1])), color='red', alpha=0.5)\n",
    "    elif rejection_region[2]==\"outer\":\n",
    "        axes.fill_between(pdf.index, pdf[pdf_name], 0, where=((pdf.index < rejection_region[0]) | (pdf.index>rejection_region[1])), color='red', alpha=0.5)\n",
    "    \n",
    "    axes.vlines(x=statistic, ymin=0, ymax=np.max(pdf[pdf_name]/3), color=\"blue\")\n",
    "    \n",
    "    axes.set_xlabel(pdf.index.name)\n",
    "    axes.set_ylabel(pdf_name)\n",
    "    \n",
    "def vizualize_HSD_test_result(HSD, HSD_alpha):\n",
    "    \"\"\"\n",
    "    Parameters\n",
    "    -------\n",
    "    HSD: DataFrame\n",
    "        Tablica zawierająca wartości statystyki HSD wyliczonych na podstawie poszczególnych par porównywanych prób losowych.\n",
    "        Nazwy kolumn i wierszy tablicy odpowiadają nazwom poszczególnych prób losowych.\n",
    "    HSD_alpha: float\n",
    "        Wartość statystyki HSD_alpha.    \n",
    "    \"\"\"\n",
    "    fig, axes = plt.subplots(1, 1, figsize=(6,6), facecolor='white')\n",
    "    axes = sns.heatmap(HSD, ax=axes, annot=True, annot_kws={\"size\": 10}, fmt=\".3f\", cmap=\"coolwarm\", center=HSD_alpha)\n",
    "    axes.set_xlabel(\"Próbki losowe\")\n",
    "    axes.set_ylabel(\"Próbki losowe\")"
   ]
  },
  {
   "cell_type": "markdown",
   "id": "68e4fe0a-b791-4fee-aac2-baef7ff10f84",
   "metadata": {
    "deletable": false,
    "editable": false,
    "nbgrader": {
     "cell_type": "markdown",
     "checksum": "0ff9df16a3a956747ba461892ef4881f",
     "grade": false,
     "grade_id": "cell-1b096cbdb2016394",
     "locked": true,
     "schema_version": 3,
     "solution": false,
     "task": false
    },
    "tags": []
   },
   "source": [
    "### Dane do zadań\n",
    "\n",
    "W celu wygenerowania danych wykorzystywanych w zawartych w notatniku zadaniach i komórkach testowych wykonaj poniższe komórki."
   ]
  },
  {
   "cell_type": "code",
   "execution_count": 4,
   "id": "280a9ec6-b167-4f2b-becd-1e8225b3ad3d",
   "metadata": {
    "deletable": false,
    "editable": false,
    "nbgrader": {
     "cell_type": "code",
     "checksum": "aa45f8c10a6889e4971ce410d0c39a1a",
     "grade": false,
     "grade_id": "cell-cbfe927fa1613a5c",
     "locked": true,
     "schema_version": 3,
     "solution": false,
     "task": false
    },
    "tags": []
   },
   "outputs": [
    {
     "data": {
      "text/html": [
       "<div>\n",
       "<style scoped>\n",
       "    .dataframe tbody tr th:only-of-type {\n",
       "        vertical-align: middle;\n",
       "    }\n",
       "\n",
       "    .dataframe tbody tr th {\n",
       "        vertical-align: top;\n",
       "    }\n",
       "\n",
       "    .dataframe thead th {\n",
       "        text-align: right;\n",
       "    }\n",
       "</style>\n",
       "<table border=\"1\" class=\"dataframe\">\n",
       "  <thead>\n",
       "    <tr style=\"text-align: right;\">\n",
       "      <th></th>\n",
       "      <th>A1</th>\n",
       "      <th>A2</th>\n",
       "      <th>A3</th>\n",
       "    </tr>\n",
       "  </thead>\n",
       "  <tbody>\n",
       "    <tr>\n",
       "      <th>0</th>\n",
       "      <td>1802</td>\n",
       "      <td>1664.0</td>\n",
       "      <td>1877.0</td>\n",
       "    </tr>\n",
       "    <tr>\n",
       "      <th>1</th>\n",
       "      <td>1992</td>\n",
       "      <td>1755.0</td>\n",
       "      <td>1710.0</td>\n",
       "    </tr>\n",
       "    <tr>\n",
       "      <th>2</th>\n",
       "      <td>1854</td>\n",
       "      <td>1823.0</td>\n",
       "      <td>1882.0</td>\n",
       "    </tr>\n",
       "    <tr>\n",
       "      <th>3</th>\n",
       "      <td>1880</td>\n",
       "      <td>1862.0</td>\n",
       "      <td>1720.0</td>\n",
       "    </tr>\n",
       "    <tr>\n",
       "      <th>4</th>\n",
       "      <td>1761</td>\n",
       "      <td>NaN</td>\n",
       "      <td>1950.0</td>\n",
       "    </tr>\n",
       "    <tr>\n",
       "      <th>5</th>\n",
       "      <td>1900</td>\n",
       "      <td>NaN</td>\n",
       "      <td>NaN</td>\n",
       "    </tr>\n",
       "  </tbody>\n",
       "</table>\n",
       "</div>"
      ],
      "text/plain": [
       "     A1      A2      A3\n",
       "0  1802  1664.0  1877.0\n",
       "1  1992  1755.0  1710.0\n",
       "2  1854  1823.0  1882.0\n",
       "3  1880  1862.0  1720.0\n",
       "4  1761     NaN  1950.0\n",
       "5  1900     NaN     NaN"
      ]
     },
     "execution_count": 4,
     "metadata": {},
     "output_type": "execute_result"
    }
   ],
   "source": [
    "# Dane do testów 1\n",
    "test_data_1 = pd.DataFrame(columns=[\"A1\", \"A2\", \"A3\"])\n",
    "test_data_1[\"A1\"] = [1802, 1992, 1854, 1880, 1761, 1900]\n",
    "test_data_1[\"A2\"] = [1664, 1755, 1823, 1862, np.nan, np.nan]\n",
    "test_data_1[\"A3\"] = [1877, 1710, 1882, 1720, 1950, np.nan]\n",
    "test_data_1"
   ]
  },
  {
   "cell_type": "code",
   "execution_count": 5,
   "id": "b92cce28-4347-4ccd-b6b0-d224f8283e49",
   "metadata": {
    "deletable": false,
    "editable": false,
    "nbgrader": {
     "cell_type": "code",
     "checksum": "d520d0ef461975188ec87b7f96761483",
     "grade": false,
     "grade_id": "cell-58e81890d7b88f7f",
     "locked": true,
     "schema_version": 3,
     "solution": false,
     "task": false
    },
    "tags": []
   },
   "outputs": [
    {
     "data": {
      "text/html": [
       "<div>\n",
       "<style scoped>\n",
       "    .dataframe tbody tr th:only-of-type {\n",
       "        vertical-align: middle;\n",
       "    }\n",
       "\n",
       "    .dataframe tbody tr th {\n",
       "        vertical-align: top;\n",
       "    }\n",
       "\n",
       "    .dataframe thead th {\n",
       "        text-align: right;\n",
       "    }\n",
       "</style>\n",
       "<table border=\"1\" class=\"dataframe\">\n",
       "  <thead>\n",
       "    <tr style=\"text-align: right;\">\n",
       "      <th></th>\n",
       "      <th>B1</th>\n",
       "      <th>B2</th>\n",
       "      <th>B3</th>\n",
       "    </tr>\n",
       "  </thead>\n",
       "  <tbody>\n",
       "    <tr>\n",
       "      <th>0</th>\n",
       "      <td>9</td>\n",
       "      <td>9</td>\n",
       "      <td>4</td>\n",
       "    </tr>\n",
       "    <tr>\n",
       "      <th>1</th>\n",
       "      <td>8</td>\n",
       "      <td>7</td>\n",
       "      <td>3</td>\n",
       "    </tr>\n",
       "    <tr>\n",
       "      <th>2</th>\n",
       "      <td>7</td>\n",
       "      <td>6</td>\n",
       "      <td>1</td>\n",
       "    </tr>\n",
       "    <tr>\n",
       "      <th>3</th>\n",
       "      <td>5</td>\n",
       "      <td>5</td>\n",
       "      <td>1</td>\n",
       "    </tr>\n",
       "  </tbody>\n",
       "</table>\n",
       "</div>"
      ],
      "text/plain": [
       "   B1  B2  B3\n",
       "0   9   9   4\n",
       "1   8   7   3\n",
       "2   7   6   1\n",
       "3   5   5   1"
      ]
     },
     "execution_count": 5,
     "metadata": {},
     "output_type": "execute_result"
    }
   ],
   "source": [
    "# Dane do testów 2\n",
    "test_data_2 = pd.DataFrame(columns=[\"B1\", \"B2\", \"B3\"])\n",
    "test_data_2[\"B1\"] = [9, 8, 7, 5]\n",
    "test_data_2[\"B2\"] = [9, 7, 6, 5]\n",
    "test_data_2[\"B3\"] = [4, 3, 1, 1]\n",
    "test_data_2"
   ]
  },
  {
   "cell_type": "code",
   "execution_count": 6,
   "id": "e98f1fe1-6fdb-4a80-9bf4-563ed7835947",
   "metadata": {
    "deletable": false,
    "editable": false,
    "nbgrader": {
     "cell_type": "code",
     "checksum": "837ba720bb454d3bb3e165a717b3c47a",
     "grade": false,
     "grade_id": "cell-db787373b6107a62",
     "locked": true,
     "schema_version": 3,
     "solution": false,
     "task": false
    },
    "tags": []
   },
   "outputs": [
    {
     "data": {
      "text/html": [
       "<div>\n",
       "<style scoped>\n",
       "    .dataframe tbody tr th:only-of-type {\n",
       "        vertical-align: middle;\n",
       "    }\n",
       "\n",
       "    .dataframe tbody tr th {\n",
       "        vertical-align: top;\n",
       "    }\n",
       "\n",
       "    .dataframe thead th {\n",
       "        text-align: right;\n",
       "    }\n",
       "</style>\n",
       "<table border=\"1\" class=\"dataframe\">\n",
       "  <thead>\n",
       "    <tr style=\"text-align: right;\">\n",
       "      <th></th>\n",
       "      <th>C1</th>\n",
       "      <th>C2</th>\n",
       "      <th>C3</th>\n",
       "      <th>C4</th>\n",
       "      <th>C5</th>\n",
       "      <th>C6</th>\n",
       "    </tr>\n",
       "  </thead>\n",
       "  <tbody>\n",
       "    <tr>\n",
       "      <th>0</th>\n",
       "      <td>0.444399</td>\n",
       "      <td>0.806100</td>\n",
       "      <td>2.207009</td>\n",
       "      <td>0.179143</td>\n",
       "      <td>-2.018446</td>\n",
       "      <td>-0.948586</td>\n",
       "    </tr>\n",
       "    <tr>\n",
       "      <th>1</th>\n",
       "      <td>-2.751942</td>\n",
       "      <td>-0.942722</td>\n",
       "      <td>-0.001221</td>\n",
       "      <td>3.345304</td>\n",
       "      <td>1.106018</td>\n",
       "      <td>1.250650</td>\n",
       "    </tr>\n",
       "    <tr>\n",
       "      <th>2</th>\n",
       "      <td>0.965852</td>\n",
       "      <td>-0.147755</td>\n",
       "      <td>0.140965</td>\n",
       "      <td>-0.142338</td>\n",
       "      <td>0.034468</td>\n",
       "      <td>0.053245</td>\n",
       "    </tr>\n",
       "    <tr>\n",
       "      <th>3</th>\n",
       "      <td>1.747967</td>\n",
       "      <td>-0.382373</td>\n",
       "      <td>-0.228505</td>\n",
       "      <td>0.300777</td>\n",
       "      <td>-2.649442</td>\n",
       "      <td>0.797719</td>\n",
       "    </tr>\n",
       "    <tr>\n",
       "      <th>4</th>\n",
       "      <td>1.585786</td>\n",
       "      <td>1.707110</td>\n",
       "      <td>-3.126494</td>\n",
       "      <td>0.724047</td>\n",
       "      <td>-1.257900</td>\n",
       "      <td>2.137653</td>\n",
       "    </tr>\n",
       "  </tbody>\n",
       "</table>\n",
       "</div>"
      ],
      "text/plain": [
       "         C1        C2        C3        C4        C5        C6\n",
       "0  0.444399  0.806100  2.207009  0.179143 -2.018446 -0.948586\n",
       "1 -2.751942 -0.942722 -0.001221  3.345304  1.106018  1.250650\n",
       "2  0.965852 -0.147755  0.140965 -0.142338  0.034468  0.053245\n",
       "3  1.747967 -0.382373 -0.228505  0.300777 -2.649442  0.797719\n",
       "4  1.585786  1.707110 -3.126494  0.724047 -1.257900  2.137653"
      ]
     },
     "execution_count": 6,
     "metadata": {},
     "output_type": "execute_result"
    }
   ],
   "source": [
    "# Dane do testów 3\n",
    "test_data_3 = pd.DataFrame(columns=[\"C1\", \"C2\", \"C3\", \"C4\", \"C5\", \"C6\"])\n",
    "test_data_3[\"C1\"] = np.hstack([sp.stats.norm.rvs(0.03, 1.5, 38, random_state=17), np.full(12, np.NaN)])\n",
    "test_data_3[\"C2\"] = np.hstack([sp.stats.norm.rvs(0.42, 1.5, 45, random_state=43), np.full(5, np.NaN)])\n",
    "test_data_3[\"C3\"] = np.hstack([sp.stats.norm.rvs(-0.12, 1.5, 42, random_state=14), np.full(8, np.NaN)])\n",
    "test_data_3[\"C4\"] = sp.stats.norm.rvs(0.06, 1.5, 50, random_state=18)\n",
    "test_data_3[\"C5\"] = np.hstack([sp.stats.norm.rvs(-0.39, 1.5, 43, random_state=123), np.full(7, np.NaN)])\n",
    "test_data_3[\"C6\"] = np.hstack([sp.stats.norm.rvs(0.12, 1.5, 39, random_state=13), np.full(11, np.NaN)])\n",
    "test_data_3.head()"
   ]
  },
  {
   "cell_type": "markdown",
   "id": "77d32d9c-1f72-4c99-ba99-ffaa27120535",
   "metadata": {
    "deletable": false,
    "editable": false,
    "nbgrader": {
     "cell_type": "markdown",
     "checksum": "0b8209cdce5c37dad9a18a693588ca41",
     "grade": false,
     "grade_id": "cell-9cffd69509fe094a",
     "locked": true,
     "schema_version": 3,
     "solution": false,
     "task": false
    },
    "tags": []
   },
   "source": [
    "### Zadanie 1: Jednoczynnikowa analiza wariancji [7 pkt]\n",
    "\n",
    "Przygotuj funkcję `one_way_anova()`, która będzie weryfikować hipotezę o równości wartości przeciętnych i wyświetlać wynik testu statystycznego zgodnie z wytycznymi zawartymi w treści zadania oraz w docstring funkcji.\n",
    "\n",
    "Poza zwracaniem zmiennych wymienionych w docsting funkcji, które są potrzebne do przeprowadzenia automatycznych testów funkcji powinna wykorzystywać udostępnioną na początku notatnika funkcję `vizualize_test_result()` do generowania wykresu zawierającego:\n",
    "- funkcję gęstości prawdopodobieństwa rozkładu teoretycznego wykorzystywanego w teście w zakresie od wartości, dla której dystrybuanta tego rozkładu przyjmuje wartość 0.0001 do wartości, dla której dystrybuanta tego rozkładu przyjmuje wartość 0.9999,\n",
    "- zaznaczony wyróżniającym się kolorem fragmentem pola pod krzywą odpowiadający wyznaczonemu w teście obszarowi krytycznemu,\n",
    "- wyróżniającą się kolorem pionowę linię wskazującą obliczoną wartość statystyki.\n",
    "\n",
    "Uwaga! Celem zadanie jest zapoznanie się ze schematem metody i samodzielne napisanie funkcji od podstaw. W związku z tym podczas rozwiązywania zadania nie należy korzystać z gotowych funkcji przeprowadzających analizę wariancji."
   ]
  },
  {
   "cell_type": "code",
   "execution_count": 7,
   "id": "f7e3cda9-bba2-4e9b-8913-edc957d2ca44",
   "metadata": {
    "deletable": false,
    "nbgrader": {
     "cell_type": "code",
     "checksum": "3b5cfb21af3d9745787a1cffe6d79b7c",
     "grade": false,
     "grade_id": "cell-bdc348d82783f767",
     "locked": false,
     "schema_version": 3,
     "solution": true,
     "task": false
    },
    "tags": []
   },
   "outputs": [],
   "source": [
    "def one_way_anova(data, alpha):\n",
    "    \"\"\"\n",
    "    data: DataFrame\n",
    "        Tablica zawierająca domyślny indeks i dowolnie nazwane kolumny (nazwy prób losowych) z wynikami prób losowych. Znajdujące się w tablicy wartości NaN nie są wynikami wchodzącymi w skład prób losowych,\n",
    "        a jedynie uzupełniają puste miejsca w tablicy powstałe na skutek różnej liczebności poszczególnych prób.\n",
    "    alpha: float\n",
    "        Wartość określająca poziom istotności.\n",
    "    \n",
    "    Returns\n",
    "    -------\n",
    "    F: float\n",
    "        Wyliczona na podstawie próby losowej wartość statystyki F.\n",
    "    F_alpha: float\n",
    "        Wartość statystyki F_alpha.\n",
    "    H: int\n",
    "        Wynik testu statystycznego, przyjmuje wartość:\n",
    "        0 - gdy wynik testu istotności nie daje podstaw do odrzucenia H0 na rzecz H1 na poziomie istotności 1-alpha,\n",
    "        1 - gdy następuje odrzucenie H0 na rzecz H1 na poziomie istotności 1-alpha.\n",
    "    \"\"\"\n",
    "    # YOUR CODE HERE\n",
    "    groups = [group.dropna().values for name, group in data.items()]\n",
    "    n = len(data)\n",
    "    k = len(groups)\n",
    "    N = sum(len(group) for group in groups)\n",
    "    \n",
    "    group_means = [np.mean(group) for group in groups]\n",
    "    overall_mean = np.mean([value for group in groups for value in group])\n",
    "    \n",
    "    ssb = sum(len(group) * (mean - overall_mean) ** 2 for group, mean in zip(groups, group_means))\n",
    "    ssw = sum(sum((value - mean) ** 2 for value in group) for group, mean in zip(groups, group_means))\n",
    "    \n",
    "    dfb = k - 1\n",
    "    dfw = N - k\n",
    "    \n",
    "    msb = ssb / dfb\n",
    "    msw = ssw / dfw\n",
    "    \n",
    "    F = msb / msw\n",
    "    F_alpha = sp.stats.f.ppf(1 - alpha, dfb, dfw)\n",
    "    \n",
    "    H = int(F > F_alpha)\n",
    "    x = np.linspace(sp.stats.f.ppf(0.0001, dfb, dfw), sp.stats.f.ppf(0.9999, dfb, dfw), 1000)\n",
    "    y = sp.stats.f.pdf(x, dfb, dfw)\n",
    "    \n",
    "    pdf = pd.DataFrame(data={'x': x, 'f(x)': y}).set_index('x')\n",
    "    \n",
    "    rejection_region = [F_alpha, max(x), \"outer\"]\n",
    "    \n",
    "    vizualize_test_result(pdf, F, rejection_region)\n",
    "    \n",
    "    return F, F_alpha, H"
   ]
  },
  {
   "cell_type": "code",
   "execution_count": 8,
   "id": "e562b391-11ed-484a-bf44-6ef418795f22",
   "metadata": {
    "deletable": false,
    "editable": false,
    "nbgrader": {
     "cell_type": "code",
     "checksum": "db4056bf2e63aaabd5b6bc6d7e422272",
     "grade": true,
     "grade_id": "cell-921e7008afe5da28",
     "locked": true,
     "points": 7,
     "schema_version": 3,
     "solution": false,
     "task": false
    },
    "tags": []
   },
   "outputs": [
    {
     "data": {
      "image/png": "[encoded data removed]",
      "text/plain": [
       "<Figure size 800x300 with 1 Axes>"
      ]
     },
     "metadata": {},
     "output_type": "display_data"
    },
    {
     "data": {
      "image/png": "[encoded data removed]",
      "text/plain": [
       "<Figure size 800x300 with 1 Axes>"
      ]
     },
     "metadata": {},
     "output_type": "display_data"
    },
    {
     "data": {
      "image/png": "[encoded data removed]",
      "text/plain": [
       "<Figure size 800x300 with 1 Axes>"
      ]
     },
     "metadata": {},
     "output_type": "display_data"
    }
   ],
   "source": [
    "### Komórka testowa\n",
    "assert np.all(np.isclose(one_way_anova(test_data_1, 0.05), (1.127072228543553, 3.8852938346523946, 0)))\n",
    "assert np.all(np.isclose(one_way_anova(test_data_2, 0.05), (11.25773195876289, 4.256494729093748, 1)))\n",
    "assert np.all(np.isclose(one_way_anova(test_data_3, 0.02), (4.79388401864753, 2.7336800410268243, 1)))"
   ]
  },
  {
   "cell_type": "markdown",
   "id": "0a7d4ab6-0a36-4582-a536-a452524345ec",
   "metadata": {
    "deletable": false,
    "editable": false,
    "nbgrader": {
     "cell_type": "markdown",
     "checksum": "0c7902d117a476529c72969cb7b4a07c",
     "grade": false,
     "grade_id": "cell-fac20582fdc4fe02",
     "locked": true,
     "schema_version": 3,
     "solution": false,
     "task": false
    },
    "tags": []
   },
   "source": [
    "### Zadanie 2: Test HSD Tukeya [8 pkt]\n",
    "\n",
    "Przygotuj funkcję `tukey_HSD_test()`, która będzie przeprowadzać test HSD Tukeya dla wszystkich par prób losowych w analizowanym zestawie danych i wyświetlać wynik testu statystycznego zgodnie z wytycznymi zawartymi w treści zadania oraz w docstring funkcji.\n",
    "\n",
    "Poza zwracaniem zmiennych wymienionych w docsting funkcji, które są potrzebne do przeprowadzenia automatycznych testów funkcji powinna wykorzystywać udostępnioną na początku notatnika funkcję `vizualize_HSD_test_result()` do generowania wykresu zawierającego:\n",
    " - wykres heatmap wyników testu ze skalą kolorów ustaqioną na coolwarm wycentrowaną na wartości statystyki HSD_alpha (odcienie ciepłe dla pól o wartości współczynnika HSD większej od HSD_alpha, odcienie zimne dla pól o wartości współczynnika HSD mniejszej od HSD_alpha).\n",
    "\n",
    "Uwaga! Celem zadanie jest zapoznanie się ze schematem metody i samodzielne funkcji napisanie od podstaw. W związku z tym podczas rozwiązywania zadania nie należy korzystać z gotowych funkcji przeprowadzających testu HSD Tukeya. W celu otrzymania wartości parametru `HSD_alpha` należy skorzystać z funkcji modułu `sp.stats.studentized_range`."
   ]
  },
  {
   "cell_type": "code",
   "execution_count": 9,
   "id": "40f0fe1a-7129-465f-8491-d515f1ad8e2a",
   "metadata": {
    "deletable": false,
    "nbgrader": {
     "cell_type": "code",
     "checksum": "59dbd463d08a9860e40d1af5cc87c9df",
     "grade": false,
     "grade_id": "cell-66bfdaa0b06532ad",
     "locked": false,
     "schema_version": 3,
     "solution": true,
     "task": false
    },
    "tags": []
   },
   "outputs": [],
   "source": [
    "def tukey_HSD_test(data, alpha):\n",
    "    \"\"\"\n",
    "    data: DataFrame\n",
    "        Tablica zawierająca domyślny indeks i dowolnie nazwane kolumny (nazwy prób losowych) z wynikami prób losowych.\n",
    "        Znajdujące się w tablicy wartości NaN nie są wynikami wchodzącymi w skład prób losowych,\n",
    "        a jedynie uzupełniają puste miejsca w tablicy powstałe na skutek różnej liczebności poszczególnych prób.\n",
    "    alpha: float\n",
    "        Wartość określająca poziom istotności.\n",
    "    \n",
    "    Returns\n",
    "    -------\n",
    "    HSD: DataFrame\n",
    "        Tablica zawierająca wartości statystyki HSD wyliczonych na podstawie poszczególnych par porównywanych prób losowych.\n",
    "        Nazwy kolumn i wierszy tablicy odpowiadają nazwom poszczególnych prób losowych.\n",
    "    HSD_alpha: float\n",
    "        Wartość statystyki HSD_alpha.\n",
    "    H: DataFrame\n",
    "        Tablica zawierająca wartości int określające wynik testu dla poszczególnych par porównywanych prób losowych:\n",
    "        0 - gdy wynik testu istotności nie daje podstaw do odrzucenia H0 na rzecz H1 na poziomie istotności 1-alpha,\n",
    "        1 - gdy następuje odrzucenie H0 na rzecz H1 na poziomie istotności 1-alpha.\n",
    "        Nazwy kolumn i wierszy tablicy odpowiadają nazwom poszczególnych prób losowych.\n",
    "    \"\"\"    \n",
    "    # YOUR CODE HERE\n",
    "    clean_data = data.apply(lambda x: x.dropna())\n",
    "    stats_data = clean_data.agg(['mean', 'count', 'var'])\n",
    "\n",
    "    means = stats_data.loc['mean']\n",
    "    counts = stats_data.loc['count']\n",
    "    variances = stats_data.loc['var']\n",
    "\n",
    "    N = counts.sum()\n",
    "    k = len(clean_data.columns)\n",
    "\n",
    "    mse = (variances * (counts - 1)).sum() / (N - k)\n",
    "    \n",
    "    HSD = pd.DataFrame(index=data.columns, columns=data.columns, dtype=float)\n",
    "    for col1 in data.columns:\n",
    "        for col2 in data.columns:\n",
    "            if col1 != col2:\n",
    "                HSD.loc[col1, col2] = np.abs(means[col1] - means[col2]) /np.sqrt(mse/2 * (1/counts[col1] + 1/counts[col2]))\n",
    "            else:\n",
    "                HSD.loc[col1, col2] = 0\n",
    "     \n",
    "\n",
    "    HSD_alpha = sp.stats.studentized_range.ppf(1 - alpha, k, N - k) \n",
    "    \n",
    "    H = (HSD >= HSD_alpha).astype(int)\n",
    "\n",
    "    vizualize_HSD_test_result(HSD, HSD_alpha)\n",
    "    \n",
    "    return HSD, HSD_alpha, H"
   ]
  },
  {
   "cell_type": "code",
   "execution_count": 10,
   "id": "5a3aedaa-c1b1-453d-b516-961fa4cd3df4",
   "metadata": {
    "deletable": false,
    "editable": false,
    "nbgrader": {
     "cell_type": "code",
     "checksum": "cd4f0f36479f30f5c09bd9a299c480ec",
     "grade": true,
     "grade_id": "cell-d5564e02c4c8fbeb",
     "locked": true,
     "points": 8,
     "schema_version": 3,
     "solution": false,
     "task": false
    },
    "tags": []
   },
   "outputs": [
    {
     "data": {
      "image/png": "[encoded data removed]",
      "text/plain": [
       "<Figure size 600x600 with 2 Axes>"
      ]
     },
     "metadata": {},
     "output_type": "display_data"
    },
    {
     "data": {
      "image/png": "[encoded data removed]",
      "text/plain": [
       "<Figure size 600x600 with 2 Axes>"
      ]
     },
     "metadata": {},
     "output_type": "display_data"
    }
   ],
   "source": [
    "### Komórka testowa\n",
    "\n",
    "HSD, HSD_alpha, H = tukey_HSD_test(test_data_2, 0.05)\n",
    "# Test 1 Kształt tablicy\n",
    "assert HSD.shape == (3, 3)\n",
    "# Test 2 Kolumny i indeks\n",
    "assert len(set(list(HSD.columns)) & set(['B1', 'B2', 'B3'])) == 3\n",
    "assert len(set(list(HSD.index)) & set(['B1', 'B2', 'B3'])) == 3\n",
    "assert len(set(list(H.columns)) & set(['B1', 'B2', 'B3'])) == 3\n",
    "assert len(set(list(H.index)) & set(['B1', 'B2', 'B3'])) == 3\n",
    "# Test 3 Wartości \n",
    "assert np.all(np.isclose(HSD.values , np.array([[0., 0.6092077, 6.09207699], [0.6092077, 0., 5.48286929], [6.09207699, 5.48286929, 0.]])))\n",
    "assert np.isclose(HSD_alpha, 3.948492203457512)\n",
    "assert np.all(np.isclose(H.values , np.array([[0, 0, 1], [0, 0, 1], [1, 1, 0]])))\n",
    "\n",
    "HSD, HSD_alpha, H = tukey_HSD_test(test_data_3, 0.02)\n",
    "# Test 1 Kształt tablicy\n",
    "assert HSD.shape == (6, 6)\n",
    "# Test 2 Kolumny i indeks\n",
    "assert len(set(list(HSD.columns)) & set([\"C1\", \"C2\", \"C3\", \"C4\", \"C5\", \"C6\"])) == 6\n",
    "assert len(set(list(HSD.index)) & set([\"C1\", \"C2\", \"C3\", \"C4\", \"C5\", \"C6\"])) == 6\n",
    "# Test 3 Wartości \n",
    "assert np.all(np.isclose(HSD.values , np.array([[0.       , 2.32398801, 2.04925654, 1.14092171, 3.35959821, 0.58434888],\n",
    "                                               [2.32398801, 0.        , 4.52485149, 1.29679893, 5.90844249, 1.73148729],\n",
    "                                               [2.04925654, 4.52485149, 0.        , 3.36510324, 1.33306438, 2.66216438],\n",
    "                                               [1.14092171, 1.29679893, 3.36510324, 0.        , 4.77709994, 0.52585424],\n",
    "                                               [3.35959821, 5.90844249, 1.33306438, 4.77709994, 0.        , 3.98505536],\n",
    "                                               [0.58434888, 1.73148729, 2.66216438, 0.52585424, 3.98505536, 0.        ]])))\n",
    "assert np.isclose(HSD_alpha, 4.50539007862777)\n",
    "assert np.all(np.isclose(H.values , np.array([[0, 0, 0, 0, 0, 0], [0, 0, 1, 0, 1, 0],\n",
    "                                               [0, 1, 0, 0, 0, 0], [0, 0, 0, 0, 1, 0],\n",
    "                                               [0, 1, 0, 1, 0, 0], [0, 0, 0, 0, 0, 0]])))"
   ]
  },
  {
   "cell_type": "markdown",
   "id": "284e0478-4bf3-47b1-b4bf-a7a3ca60302f",
   "metadata": {
    "deletable": false,
    "editable": false,
    "nbgrader": {
     "cell_type": "markdown",
     "checksum": "a4fc7154fa2a76374263f64ab2a1e34b",
     "grade": false,
     "grade_id": "cell-12d3375e5e2fc9c5",
     "locked": true,
     "schema_version": 3,
     "solution": false,
     "task": false
    },
    "tags": []
   },
   "source": [
    "### Zadanie 3: Wykorzystanie dedykowanych funkcji [5 pkt]\n",
    "\n",
    "#### a)\n",
    "Korzystając z funkcji `sp.stats.f_oneway()` zweryfikuj hipotezę o równości wartości średnich zmiennych zawartych w zmiennej `test_data_2`. W obliczeniach przyjmij poziom istotności 1 - alpha = 0.95.\n",
    "\n",
    "Zapisz obliczoną wartość pvalue do zmiennej `pvalue_1`, oraz przygotuj zmienną `H_1` zawierającą wynik testu statystycznego (0 - gdy wynik testu istotności nie daje podstaw do odrzucenia H0 na rzecz H1 na poziomie istotności 1-alpha, 1 - gdy następuje odrzucenie H0 na rzecz H1 na poziomie istotności 1-alpha).\n",
    "\n",
    "Uwagi do wykonania zadania:\n",
    " - ustaw następującą wartość argumentu funkcji wykonującej test statystyczny odpowiedzialnego za radzenie sobie z wartościami nan: `nan_policy=\"omit\"`."
   ]
  },
  {
   "cell_type": "code",
   "execution_count": 11,
   "id": "c8328edb-df0d-4e95-84b8-28b43273242c",
   "metadata": {
    "deletable": false,
    "nbgrader": {
     "cell_type": "code",
     "checksum": "1e7989846e495785e32c62cc4b7c186d",
     "grade": false,
     "grade_id": "cell-c36fa5ceea66c2ab",
     "locked": false,
     "schema_version": 3,
     "solution": true,
     "task": false
    },
    "tags": []
   },
   "outputs": [
    {
     "name": "stdout",
     "output_type": "stream",
     "text": [
      "Wartość pvalue_1: 0.003554140748362928\n",
      "Wynik testu H_1: 1\n"
     ]
    }
   ],
   "source": [
    "# YOUR CODE HERE\n",
    "\n",
    "pvalue_1 = sp.stats.f_oneway(*test_data_2.values.T, nan_policy=\"omit\")[1]  \n",
    "\n",
    "level_significance_1 = 0.95\n",
    "alpha_1 = 1 - level_significance_1\n",
    "\n",
    "pvalue_1 = float(pvalue_1)\n",
    "alpha_1 = float(alpha_1)\n",
    "\n",
    "if pvalue_1 <= alpha_1:\n",
    "    H_1 = 1 \n",
    "else:\n",
    "    H_1 = 0 \n",
    "\n",
    "# Wyniki\n",
    "print(\"Wartość pvalue_1:\", pvalue_1)\n",
    "print(\"Wynik testu H_1:\", H_1)"
   ]
  },
  {
   "cell_type": "code",
   "execution_count": 12,
   "id": "57bf1a2f-5a3a-42b9-a7fe-e6df6e91a928",
   "metadata": {
    "deletable": false,
    "editable": false,
    "nbgrader": {
     "cell_type": "code",
     "checksum": "78f666b4b6bcd988b7e935f219a548eb",
     "grade": true,
     "grade_id": "cell-45653b18eb62c15d",
     "locked": true,
     "points": 2,
     "schema_version": 3,
     "solution": false,
     "task": false
    },
    "tags": []
   },
   "outputs": [],
   "source": [
    "# Komórka testowa\n",
    "assert np.isclose(pvalue_1, 0.003554140748362928)\n",
    "assert H_1 == 1"
   ]
  },
  {
   "cell_type": "markdown",
   "id": "ad44deba-bcdd-48f7-9e24-987737ab8780",
   "metadata": {
    "deletable": false,
    "editable": false,
    "nbgrader": {
     "cell_type": "markdown",
     "checksum": "0a06d2ab8482dbfc9aa850000b01ad0a",
     "grade": false,
     "grade_id": "cell-e4458bda737d23ae",
     "locked": true,
     "schema_version": 3,
     "solution": false,
     "task": false
    },
    "tags": []
   },
   "source": [
    "#### b)\n",
    "Korzystając z funkcji `sp.stats.tukey_HSD_test()` zweryfikuj hipotezę o równości wartości średnich poszczególnych par zmiennych zawartych w zmiennej `test_data_2`. W obliczeniach przyjmij poziom istotności 1 - alpha = 0.95.\n",
    "\n",
    "Zapisz obliczone wartości pvalue do zmiennej `pvalue_2` (będzie to macierz), oraz przygotuj zmienną `H_2` zawierającą wynik testów statystycznych (macierz zawierająca: 0 - gdy wynik testu istotności nie daje podstaw do odrzucenia H0 na rzecz H1 na poziomie istotności 1-alpha, 1 - gdy następuje odrzucenie H0 na rzecz H1 na poziomie istotności 1-alpha).\n",
    "\n",
    "Uwagi do wykonania zadania:\n",
    " - funkcja `sp.stats.tukey_HSD_test()` wymaga wcześniejszego usunięcia z danych wartości NaN."
   ]
  },
  {
   "cell_type": "code",
   "execution_count": 13,
   "id": "a0586411-b6ea-407c-93d6-c41613e78553",
   "metadata": {
    "deletable": false,
    "nbgrader": {
     "cell_type": "code",
     "checksum": "46f87e823b0bdd39101b4da024d3b000",
     "grade": false,
     "grade_id": "cell-f96c6d148b754ac6",
     "locked": false,
     "schema_version": 3,
     "solution": true,
     "task": false
    },
    "tags": []
   },
   "outputs": [
    {
     "name": "stdout",
     "output_type": "stream",
     "text": [
      "\n",
      "Wartości p-value: \n",
      " [[1.         0.90382813 0.00501795]\n",
      " [0.90382813 1.         0.0094373 ]\n",
      " [0.00501795 0.0094373  1.        ]]\n",
      "\n",
      "Macierz H_2: \n",
      " [[0 0 1]\n",
      " [0 0 1]\n",
      " [1 1 0]]\n"
     ]
    }
   ],
   "source": [
    "# YOUR CODE HERE\n",
    "\n",
    "B1 = test_data_2['B1'].dropna()\n",
    "B2 = test_data_2['B2'].dropna()\n",
    "B3 = test_data_2['B3'].dropna()\n",
    "result = sp.stats.tukey_hsd(B1, B2, B3)\n",
    "\n",
    "pvalue_2 = result.pvalue\n",
    "\n",
    "level_significance_2 = 0.95\n",
    "alpha_2 = 1 - level_significance_2\n",
    "H_2 = np.zeros_like(pvalue_2, dtype=int)\n",
    "H_2[pvalue_2 < alpha_2] = 1\n",
    "\n",
    "print(\"\\nWartości p-value: \\n\", pvalue_2)\n",
    "print(\"\\nMacierz H_2: \\n\", H_2)"
   ]
  },
  {
   "cell_type": "code",
   "execution_count": 14,
   "id": "a1939ee6-919b-4f9f-aca6-886a9bc11dd3",
   "metadata": {
    "deletable": false,
    "editable": false,
    "nbgrader": {
     "cell_type": "code",
     "checksum": "0198708462a5bc3af2b3808df29fb9ac",
     "grade": true,
     "grade_id": "cell-39dbc778fdca18da",
     "locked": true,
     "points": 3,
     "schema_version": 3,
     "solution": false,
     "task": false
    },
    "tags": []
   },
   "outputs": [],
   "source": [
    "# Komórka testowa\n",
    "assert np.all(np.isclose(pvalue_2, np.array([[1.,         0.90382813, 0.00501795],\n",
    "                                             [0.90382813, 1.,         0.0094373 ],\n",
    "                                             [0.00501795, 0.0094373,  1.        ]])))\n",
    "assert np.all(np.isclose(H_2, np.array([[0, 0, 1],\n",
    "                                        [0, 0, 1],\n",
    "                                        [1, 1, 0]])))"
   ]
  }
 ],
 "metadata": {
  "kernelspec": {
   "display_name": "Python 3 (ipykernel)",
   "language": "python",
   "name": "python3"
  },
  "language_info": {
   "codemirror_mode": {
    "name": "ipython",
    "version": 3
   },
   "file_extension": ".py",
   "mimetype": "text/x-python",
   "name": "python",
   "nbconvert_exporter": "python",
   "pygments_lexer": "ipython3",
   "version": "3.11.8"
  }
 },
 "nbformat": 4,
 "nbformat_minor": 5
}
