{
 "cells": [
  {
   "cell_type": "markdown",
   "id": "bdd7839a",
   "metadata": {
    "deletable": false,
    "editable": false,
    "nbgrader": {
     "cell_type": "markdown",
     "checksum": "ff0bc2c9546dc7416a62ab1f8e86fe5a",
     "grade": false,
     "grade_id": "cell-fcd2666579131b77",
     "locked": true,
     "schema_version": 3,
     "solution": false,
     "task": false
    },
    "tags": []
   },
   "source": [
    "# Statystyka matematyczna - ćwiczenia laboratoryjne 2023/2024\n",
    "\n",
    "Ten notatnik zalicza się do grupy zestawów zadań, na podstawie których odbywa się zaliczenie ćwiczeń i podlega zwrotowi do oceny w ustalonym na zajęciach terminie.\n",
    "\n",
    "Uwagi i wytyczne ogólne dotyczące uzupełniania notatnika:\n",
    "- Podczas wykonywania zadań należy korzystać wyłącznie z pakietów zaimportowanych na początku notatnika oraz z pakietów wchodzących w skład standardowej biblioteki Pythona, które można zaimportować samodzielnie we wskazanej komórce notatnika.\n",
    "- Swoje rozwiązania należy wprowadzać wyłącznie w miejce następujących fragmentów kodu:<br/> `# YOUR CODE HERE`<br/> `raise NotImplementedError()`<br/> \n",
    "a odpowiedzi tekstowe w komórkach oznaczonych hasłem:<br/> \n",
    "`YOUR ANSWER HERE`<br/> \n",
    "Nie należy w żaden sposób modyfikować pozostałych fragmentów kodu oraz innych elementów notatnika, w szczególności dodawać lub usuwać komórek oraz zmieniać nazwy pliku.\n",
    "- Otrzymywane wyniki i odpowiedzi mają być rezultatem wykonania napisanego kodu.\n",
    "- Zadanie należy wykonać w taki sposób, aby podczas wykonywania kodu nie zostały wyświetlone żadne ostrzeżenia.\n",
    "- Zawarte w notatniku automatyczne testy mają charakter poglądowy. Dotyczą one wybranych aspektów zadań i mają za zadanie wyłapać podstawowe błędy. Przejście wszystkich testów nie oznacza, że zadanie jest wykonane w całości poprawnie.\n",
    "\n",
    "Uwagi i wytyczne ogólne dotyczące wizualizacji wyników:\n",
    "- Wszystkie wykresy powinny być wykonane w jednolitym, przejrzystym i czytelnym stylu, posiadać odpowiednio dobrane proporcje i zakresy wartości osi.\n",
    "- Wykresy oraz ich osie powinny mieć nadane tytuły. Jeżeli w obrębie figury znajduje się więcej niż jeden wykres to figura również powinna mieć nadany tytuł. \n",
    "- Figury powinny mieć ustawione białe tło, tak, aby niezależnie od ustawień notatnika wszystkie elementy wykresów były dobrze widoczne (domyślnie tło jest przeźroczyste co może powodować problemy w notatnikach z ustawionym ciemnym tłem).\n",
    "- Rozmiar poziomy figur nie powinien przekraczać 20 cali.\n",
    "\n",
    "Przed odesłaniem zestawu zadań do oceny proszę uzupełnić komórkę z danymi autorów rozwiązania (nazwa zespołu oraz imiona, nazwiska i numery indeksów członków zespołu) oraz upewnić się, że notatnik działa zgodnie z oczekiwaniami. W tym celu należy skorzystać z opcji **Restart Kernel and Run All Cells...** dostępnej na górnej belce notatnika pod symbolem $\\blacktriangleright\\blacktriangleright$."
   ]
  },
  {
   "cell_type": "markdown",
   "id": "3c335f1c",
   "metadata": {},
   "source": [
    "Nazwa zespołu: 2.21 Członkowie: Dominik Sakłaski - 415120 Dominika Pudło - 415180 Karolina Murzyn - 409892 Jan Dworak - 412302"
   ]
  },
  {
   "cell_type": "markdown",
   "id": "1bd2f008",
   "metadata": {
    "deletable": false,
    "editable": false,
    "nbgrader": {
     "cell_type": "markdown",
     "checksum": "eddc8826810e4a6f7bf68319da334bd9",
     "grade": false,
     "grade_id": "cell-109006d425e5cf83",
     "locked": true,
     "schema_version": 3,
     "solution": false,
     "task": false
    },
    "tags": []
   },
   "source": [
    "---"
   ]
  },
  {
   "cell_type": "markdown",
   "id": "0f5347b0-dc52-4504-ac87-4419564ee950",
   "metadata": {
    "deletable": false,
    "editable": false,
    "nbgrader": {
     "cell_type": "markdown",
     "checksum": "d164192e87916ef5ce2f4e3fb9bc163f",
     "grade": false,
     "grade_id": "cell-8c6669ff6fd76650",
     "locked": true,
     "schema_version": 3,
     "solution": false,
     "task": false
    },
    "tags": []
   },
   "source": [
    "# Zestaw zadań 10: Weryfikacja hipotez statystycznych - testy nieparametryczne"
   ]
  },
  {
   "cell_type": "code",
   "execution_count": 1,
   "id": "9bd20e4e-1df7-4a7e-a730-7790c8edf140",
   "metadata": {
    "deletable": false,
    "editable": false,
    "nbgrader": {
     "cell_type": "code",
     "checksum": "cdbcf2d18167c573bc9b202d84c8f3ed",
     "grade": false,
     "grade_id": "cell-0c9da9db804249c4",
     "locked": true,
     "schema_version": 3,
     "solution": false,
     "task": false
    },
    "tags": []
   },
   "outputs": [],
   "source": [
    "import numpy as np\n",
    "import pandas as pd\n",
    "import scipy as sp\n",
    "import matplotlib as mpl\n",
    "import matplotlib.pyplot as plt\n",
    "import seaborn as sns"
   ]
  },
  {
   "cell_type": "code",
   "execution_count": 2,
   "id": "1ee14dba-50b1-4cdc-967d-1b04f07ed720",
   "metadata": {},
   "outputs": [],
   "source": [
    "# Miejsce do importu pakietów wchodzących w skład standardowej biblioteki Pythona oraz ustawienie opcji wykorzystywanych pakietów\n",
    "\n",
    "from scipy.stats import binom\n",
    "from scipy.stats import chi2_contingency\n",
    "from scipy.stats import kstest\n",
    "from scipy import stats"
   ]
  },
  {
   "cell_type": "markdown",
   "id": "74f2ce07-a075-444e-aa69-c1572d94ebf5",
   "metadata": {
    "deletable": false,
    "editable": false,
    "nbgrader": {
     "cell_type": "markdown",
     "checksum": "1608401407c11dcb47b7c58e65a3aed7",
     "grade": false,
     "grade_id": "cell-98e7a4ffc0ec0d09",
     "locked": true,
     "schema_version": 3,
     "solution": false,
     "task": false
    },
    "tags": []
   },
   "source": [
    "### Funkcje do wykorzystania"
   ]
  },
  {
   "cell_type": "code",
   "execution_count": 3,
   "id": "a3661692-8711-418a-8f34-4c46411d5a6e",
   "metadata": {
    "deletable": false,
    "editable": false,
    "nbgrader": {
     "cell_type": "code",
     "checksum": "e928f19f453f624a521d2bd6514e45a0",
     "grade": false,
     "grade_id": "cell-337a19ca0525c5e4",
     "locked": true,
     "schema_version": 3,
     "solution": false,
     "task": false
    },
    "tags": []
   },
   "outputs": [],
   "source": [
    "def vizualize_test_result(pdf, statistic, rejection_region):\n",
    "    \"\"\"\n",
    "    Parameters\n",
    "    -------\n",
    "    pdf: pandas.DataFrame\n",
    "        Tablica zawierająca informacje niezbędne do wykreślenia funkcji gęstości prawdopodobieństwa wykorzystywanego w teście rozkładu\n",
    "        teoretycznego - index z wariantami zmiennej losowej i nadaną nazwą zmiennej (np. x) oraz pojedynczą kolumnę z wartościami\n",
    "        gęstościami prawdopodobieństwa wyliczonymi dla poszczególnych wariantów o nadanej nazwie bazującej na nazwie zmiennej (np. f(x)).\n",
    "    statistic: float\n",
    "        Wartość statystyki testowej wyliczonej na podstawie próby losowej.\n",
    "    rejection_region: list\n",
    "        Lista zawierająca trzy elementy pozwalające na określenie obszaru krytycznego w następującej kolejności:\n",
    "         - wartość dolnej granicy przedziału,\n",
    "         - wartość górnej granicy przedziału,\n",
    "         - \"inner\" lub \"outer\" w zależności od tego, czy ma być zakolorowana wewnętrzna, czy zewnętrzna część przedziału.\n",
    "    \"\"\"\n",
    "    pdf_name= pdf.columns[0]\n",
    "    \n",
    "    fig, axes = plt.subplots(1, 1, figsize=(8, 3), facecolor='white')\n",
    "\n",
    "    axes.plot(pdf.index, pdf[pdf_name], color=\"grey\")\n",
    "\n",
    "    if rejection_region[2]==\"inner\":\n",
    "        axes.fill_between(pdf.index, pdf[pdf_name], 0, where=((pdf.index > rejection_region[0]) & (pdf.index<rejection_region[1])), color='red', alpha=0.5)\n",
    "    elif rejection_region[2]==\"outer\":\n",
    "        axes.fill_between(pdf.index, pdf[pdf_name], 0, where=((pdf.index < rejection_region[0]) | (pdf.index>rejection_region[1])), color='red', alpha=0.5)\n",
    "    \n",
    "    axes.vlines(x=statistic, ymin=0, ymax=np.max(pdf[pdf_name]/3), color=\"blue\")\n",
    "    \n",
    "    axes.set_xlabel(pdf.index.name)\n",
    "    axes.set_ylabel(pdf_name)"
   ]
  },
  {
   "cell_type": "markdown",
   "id": "9fe019be-f7a5-4b23-a8df-4fc6b792a908",
   "metadata": {
    "deletable": false,
    "editable": false,
    "nbgrader": {
     "cell_type": "markdown",
     "checksum": "f7f94f1cad946c2c0fd4e4e0631291a8",
     "grade": false,
     "grade_id": "cell-4d3dcd61bb1d0151",
     "locked": true,
     "schema_version": 3,
     "solution": false,
     "task": false
    },
    "tags": []
   },
   "source": [
    "### Zadanie 1: Test zgodności chi-kwadrat [10 pkt]\n",
    "\n",
    "Zmienna `sample` zawiera wyniki 50 krotnego powtórzenia doświadczenia, w którym rzucamy monetą 20 razy i zapisujemy liczbę orłów, które wypadły w serii rzutów.\n",
    "\n",
    "Przygotuj dane oraz napisz funkcję `chi2_homogeneity_NHST()`, która zostanie wykorzystana do weryfikacji hipotezy, że wykorzystana w doswiadczeniu moneta była uczciwa (prawdopodobieństwo wyrzucenia orła i reszki jest równe)."
   ]
  },
  {
   "cell_type": "code",
   "execution_count": 4,
   "id": "0d71ca67-69bd-4cc2-a69c-ff7c78741d07",
   "metadata": {
    "deletable": false,
    "editable": false,
    "nbgrader": {
     "cell_type": "code",
     "checksum": "ecfd73006c8ed9d038a9c557daa0c3a4",
     "grade": false,
     "grade_id": "cell-844ad83d50ca398f",
     "locked": true,
     "schema_version": 3,
     "solution": false,
     "task": false
    },
    "tags": []
   },
   "outputs": [],
   "source": [
    "sample = np.array([ 9, 10, 11, 11,  8,  7, 14,  7, 14, 12,\n",
    "                   14, 11,  9, 11, 15, 14, 11, 12,  8, 13,\n",
    "                    9, 12,  7,  8, 10,  9, 14,  9,  8, 11,\n",
    "                    8, 10,  5, 10,  8, 10, 13, 10, 14, 10,\n",
    "                    8,  9, 14, 14,  8, 10,  9, 13, 10, 14])"
   ]
  },
  {
   "cell_type": "markdown",
   "id": "808cb211-42a1-4e19-aa9d-ab45696eb979",
   "metadata": {
    "deletable": false,
    "editable": false,
    "nbgrader": {
     "cell_type": "markdown",
     "checksum": "3d656dfbe316f519dee5d5e23a83acc9",
     "grade": false,
     "grade_id": "cell-ee01dcf5786c0763",
     "locked": true,
     "schema_version": 3,
     "solution": false,
     "task": false
    },
    "tags": []
   },
   "source": [
    "#### a) Przygotowanie danych\n",
    "\n",
    "Oblicz prawdopodobieństwa wystąpienia określonej liczby sukcesów (0, 1, 2 ...) w 20 niezależnych powtórzeniach doświaczenia o prawdopodobieństwie sukcesu równym 0.5. Wyniki zestaw w tabeli `theoretical_distribution` o następującej strukturze:\n",
    "\n",
    "> Indeks:</br>\n",
    "> x - warianty przyjmowane przez zmienną X.</br>\n",
    "\n",
    "> Kolumny:</br>\n",
    "> P(x) - prawdopodobieństwo wystąpienia poszczególnych wariantów.\n",
    "\n",
    "Przygotuj szereg rozdzielczy wystąpienia określonej liczby orłów w seriach 20 rzutów monetą. Wyniki zestaw w tabeli `tested_distribution` o następującej strukturze:\n",
    "\n",
    "> Indeks:</br>\n",
    "> x - warianty przyjmowane przez zmienną X (identyczne jak w poprzedniej tablicy).</br>\n",
    "\n",
    "> Kolumny:</br>\n",
    "> N(x) - zliczenia wystąpienia poszczególnych wariantów."
   ]
  },
  {
   "cell_type": "code",
   "execution_count": 5,
   "id": "db1d6a50-d267-4d80-8b38-a8e792f9c211",
   "metadata": {
    "deletable": false,
    "nbgrader": {
     "cell_type": "code",
     "checksum": "2190aa6bef5227be9f7d8922d065ad11",
     "grade": false,
     "grade_id": "cell-1ed8125a9edb4f3d",
     "locked": false,
     "schema_version": 3,
     "solution": true,
     "task": false
    },
    "tags": []
   },
   "outputs": [
    {
     "name": "stdout",
     "output_type": "stream",
     "text": [
      "Teoretyczny rozkład prawdopodobieństwa:\n",
      "            P(x)\n",
      "x               \n",
      "0   9.536743e-07\n",
      "1   1.907349e-05\n",
      "2   1.811981e-04\n",
      "3   1.087189e-03\n",
      "4   4.620552e-03\n",
      "5   1.478577e-02\n",
      "6   3.696442e-02\n",
      "7   7.392883e-02\n",
      "8   1.201344e-01\n",
      "9   1.601791e-01\n",
      "10  1.761971e-01\n",
      "11  1.601791e-01\n",
      "12  1.201344e-01\n",
      "13  7.392883e-02\n",
      "14  3.696442e-02\n",
      "15  1.478577e-02\n",
      "16  4.620552e-03\n",
      "17  1.087189e-03\n",
      "18  1.811981e-04\n",
      "19  1.907349e-05\n",
      "20  9.536743e-07\n"
     ]
    }
   ],
   "source": [
    "# Tabela funkcji rozkładu prawdopodobieństwa rozkładu teoretycznego\n",
    "# YOUR CODE HERE\n",
    "\n",
    "n = 20\n",
    "p = 0.5\n",
    "\n",
    "x = np.arange(0, 21) \n",
    "probabilities = binom.pmf(x, n, p)  \n",
    "\n",
    "theoretical_distribution = pd.DataFrame({\n",
    "    'P(x)': probabilities\n",
    "}, index=x)\n",
    "theoretical_distribution.index.name = 'x'  \n",
    "\n",
    "print(\"Teoretyczny rozkład prawdopodobieństwa:\")\n",
    "print(theoretical_distribution)"
   ]
  },
  {
   "cell_type": "code",
   "execution_count": 6,
   "id": "88472b1e-2f5a-4f63-8ae9-c1f07fbea9cb",
   "metadata": {
    "deletable": false,
    "editable": false,
    "nbgrader": {
     "cell_type": "code",
     "checksum": "4907bc64680193a4aa613990200e0003",
     "grade": true,
     "grade_id": "cell-348d8f49a947e675",
     "locked": true,
     "points": 2,
     "schema_version": 3,
     "solution": false,
     "task": false
    },
    "tags": []
   },
   "outputs": [],
   "source": [
    "# Komórka testowa\n",
    "assert type(theoretical_distribution) == pd.DataFrame\n",
    "assert theoretical_distribution.shape == (21, 1)\n",
    "assert list(theoretical_distribution.columns) == [\"P(x)\"]\n",
    "assert theoretical_distribution.index.name == 'x'\n",
    "assert np.isclose(np.sum(theoretical_distribution.index.values), 210)\n",
    "assert np.isclose(np.sum(theoretical_distribution[\"P(x)\"]), 1)"
   ]
  },
  {
   "cell_type": "code",
   "execution_count": 7,
   "id": "ae3de16c-d454-4b67-ae29-3dd151fc5778",
   "metadata": {
    "deletable": false,
    "nbgrader": {
     "cell_type": "code",
     "checksum": "b19e7294748753cc611d69aa3b4716d5",
     "grade": false,
     "grade_id": "cell-68cc392f2f6b3ea4",
     "locked": false,
     "schema_version": 3,
     "solution": true,
     "task": false
    },
    "tags": []
   },
   "outputs": [
    {
     "name": "stdout",
     "output_type": "stream",
     "text": [
      "\n",
      "Empiryczny rozkład wyników:\n",
      "    N(x)\n",
      "x       \n",
      "0      0\n",
      "1      0\n",
      "2      0\n",
      "3      0\n",
      "4      0\n",
      "5      1\n",
      "6      0\n",
      "7      3\n",
      "8      8\n",
      "9      7\n",
      "10     9\n",
      "11     6\n",
      "12     3\n",
      "13     3\n",
      "14     9\n",
      "15     1\n",
      "16     0\n",
      "17     0\n",
      "18     0\n",
      "19     0\n",
      "20     0\n"
     ]
    }
   ],
   "source": [
    "# Tabela szeregu rozdzielczego próby losowej\n",
    "# YOUR CODE HERE\n",
    "tested_distribution = pd.DataFrame({\n",
    "    'N(x)': np.bincount(sample, minlength=21)\n",
    "}, index=x)\n",
    "tested_distribution.index.name = 'x'  \n",
    "\n",
    "print(\"\\nEmpiryczny rozkład wyników:\")\n",
    "print(tested_distribution)"
   ]
  },
  {
   "cell_type": "code",
   "execution_count": 8,
   "id": "90e51c9c-7c4c-46f9-80cc-0113dd3bc2cd",
   "metadata": {
    "deletable": false,
    "editable": false,
    "nbgrader": {
     "cell_type": "code",
     "checksum": "6308a80320993c014a54c60b250ebc93",
     "grade": true,
     "grade_id": "cell-50d226bc792fb669",
     "locked": true,
     "points": 2,
     "schema_version": 3,
     "solution": false,
     "task": false
    },
    "tags": []
   },
   "outputs": [],
   "source": [
    "# Komórka testowa\n",
    "assert type(tested_distribution) == pd.DataFrame\n",
    "assert tested_distribution.shape == (21, 1)\n",
    "assert list(tested_distribution.columns) == [\"N(x)\"]\n",
    "assert tested_distribution.index.name == 'x'\n",
    "assert np.isclose(np.sum(tested_distribution.index.values), 210)\n",
    "assert np.isclose(np.sum(tested_distribution[\"N(x)\"]), 50)"
   ]
  },
  {
   "cell_type": "markdown",
   "id": "0df08fbf-54ad-417a-8f9b-d8791b9defcb",
   "metadata": {
    "deletable": false,
    "editable": false,
    "nbgrader": {
     "cell_type": "markdown",
     "checksum": "8ae71138a7a250b7b30f2a26e5b40118",
     "grade": false,
     "grade_id": "cell-9eacf6d61752cf13",
     "locked": true,
     "schema_version": 3,
     "solution": false,
     "task": false
    },
    "tags": []
   },
   "source": [
    "#### b) Test zgodności chi-kwadrat\n",
    "\n",
    "Przygotuj funkcję `chi2_NHST()`, która będzie weryfikować test zgodności chi-kwadrat i wyświetlać wynik testu statystycznego zgodnie z wytycznymi zawartymi w dołączonym do notatnika zestawie wzorów, w treści zadania oraz w docstring funkcji.\n",
    "\n",
    "Poza zwracaniem zmiennych wymienionych w docsting funkcji, które są potrzebne do przeprowadzenia automatycznych testów funkcji powinna wykorzystywać udostępnioną na początku notatnika funkcję `vizualize_test_result()` do generowania wykresu zawierającego:\n",
    "- funkcję gęstości prawdopodobieństwa rozkładu teoretycznego wykorzystywanego w teście w zakresie od wartości, dla której dystrybuanta tego rozkładu przyjmuje wartość 0.0001 do wartości, dla której dystrybuanta tego rozkładu przyjmuje wartość 0.9999,\n",
    "- zaznaczony wyróżniającym się kolorem fragmentem pola pod krzywą odpowiadający wyznaczonemu w teście obszarowi krytycznemu,\n",
    "- wyróżniającą się kolorem pionowę linię wskazującą obliczoną wartość statystyki."
   ]
  },
  {
   "cell_type": "code",
   "execution_count": 9,
   "id": "2fff309e-d81b-41b2-a0fc-210444b37e93",
   "metadata": {
    "deletable": false,
    "nbgrader": {
     "cell_type": "code",
     "checksum": "d5153a8e86c41b291837c43da5e7bca1",
     "grade": false,
     "grade_id": "cell-fca12fb0e6b9f433",
     "locked": false,
     "schema_version": 3,
     "solution": true,
     "task": false
    },
    "tags": []
   },
   "outputs": [],
   "source": [
    "def chi2_NHST(tested_distribution, theoretical_distribution, alpha):\n",
    "    \"\"\"\n",
    "    Parameters\n",
    "    -------\n",
    "    tested_distribution: DataFrame\n",
    "        Tablica zawierająca indeks o nazwie \"x\" z wariantami zmiennej w próbie losowej oraz kolumnę \"N(x)\" z zliczeniami wariantów.\n",
    "    theoretical_distribution: DataFrame\n",
    "        Tablica zawierająca indeks o nazwie \"x\" z wariantami zmiennej teoretycznej oraz kolumnę \"P(x)\" z prawdopodobieństwami wariantów.\n",
    "    alpha: float\n",
    "        Wartość określająca poziom istotności.\n",
    "    \n",
    "    Returns\n",
    "    -------\n",
    "    chi2: float\n",
    "        Wyliczona na podstawie próby losowej wartość statystyki chi2.\n",
    "    chi2_alpha: float\n",
    "        Wartość statystyki chi2_alpha.\n",
    "    H: int\n",
    "        Wynik testu statystycznego, przyjmuje wartość:\n",
    "        0 - gdy wynik testu istotności nie daje podstaw do odrzucenia H0 na rzecz H1 na poziomie istotności 1-alpha,\n",
    "        1 - gdy następuje odrzucenie H0 na rzecz H1 na poziomie istotności 1-alpha.\n",
    "    \"\"\"\n",
    "    # YOUR CODE HERE\n",
    "    observed = tested_distribution['N(x)'].values\n",
    "    expected = tested_distribution['N(x)'].sum() * theoretical_distribution['P(x)'].values\n",
    "    \n",
    "    chi2 = ((observed - expected) ** 2 / expected).sum()\n",
    "    df = len(observed) - 1\n",
    "    chi2_alpha = sp.stats.chi2.ppf(1 - alpha, df)\n",
    "\n",
    "    H = 1 if chi2 > chi2_alpha else 0\n",
    "\n",
    "    print(f\"Wartość statystyki chi2: {chi2}\")\n",
    "    print(f\"Wartość krytyczna dla alpha={alpha}: {chi2_alpha}\")\n",
    "    print(\"Wynik testu statystycznego:\", H)\n",
    "    \n",
    "    # Wizualizacja\n",
    "\n",
    "    x = np.linspace(sp.stats.chi2.ppf(0.0001, df), sp.stats.chi2.ppf(0.9999, df), 1000)\n",
    "    pdf_values = sp.stats.chi2.pdf(x,df)\n",
    "    pdf = pd.DataFrame(pdf_values, index=x, columns=[f'f(x)'])\n",
    "\n",
    "    rejection_region = [chi2_alpha, np.inf, \"inner\"]\n",
    "    vizualize_test_result(pdf, chi2, rejection_region)\n",
    "    \n",
    "    return chi2, chi2_alpha, H"
   ]
  },
  {
   "cell_type": "code",
   "execution_count": 10,
   "id": "1fc24336-3900-4748-b204-2acb9f0c1378",
   "metadata": {
    "deletable": false,
    "editable": false,
    "nbgrader": {
     "cell_type": "code",
     "checksum": "c56a178788be999a4bf9523ca6ade80d",
     "grade": true,
     "grade_id": "cell-28666224c6ffb1a5",
     "locked": true,
     "points": 6,
     "schema_version": 3,
     "solution": false,
     "task": false
    },
    "tags": []
   },
   "outputs": [
    {
     "name": "stdout",
     "output_type": "stream",
     "text": [
      "Wartość statystyki chi2: 33.361213102686804\n",
      "Wartość krytyczna dla alpha=0.02: 35.01962554059928\n",
      "Wynik testu statystycznego: 0\n",
      "Wartość statystyki chi2: 33.361213102686804\n",
      "Wartość krytyczna dla alpha=0.05: 31.410432844230918\n",
      "Wynik testu statystycznego: 1\n"
     ]
    },
    {
     "data": {
      "image/png": "[encoded data removed]",
      "text/plain": [
       "<Figure size 800x300 with 1 Axes>"
      ]
     },
     "metadata": {},
     "output_type": "display_data"
    },
    {
     "data": {
      "image/png": "[encoded data removed]",
      "text/plain": [
       "<Figure size 800x300 with 1 Axes>"
      ]
     },
     "metadata": {},
     "output_type": "display_data"
    }
   ],
   "source": [
    "# Komórka testowa\n",
    "assert np.all(np.isclose(chi2_NHST(tested_distribution, theoretical_distribution, 0.02), (33.3612131026868, 35.01962554059928, 0)))\n",
    "assert np.all(np.isclose(chi2_NHST(tested_distribution, theoretical_distribution, 0.05), (33.3612131026868, 31.410432844230918, 1)))"
   ]
  },
  {
   "cell_type": "markdown",
   "id": "f9da6ede-7dbc-4b3c-a2e4-8f20cda9b5bb",
   "metadata": {
    "deletable": false,
    "editable": false,
    "nbgrader": {
     "cell_type": "markdown",
     "checksum": "50c15db7e5bed4f71fe5f5e67627fd94",
     "grade": false,
     "grade_id": "cell-b5314b6eaab8846c",
     "locked": true,
     "schema_version": 3,
     "solution": false,
     "task": false
    },
    "tags": []
   },
   "source": [
    "### Zadanie 2: Weryfikacja hipotez z wykorzystaniem dedykowanych funkcji [5-10 pkt]\n",
    "\n",
    "Zmienna `penguins` zawiera wyniki badań przeprowadzonych na pingwinach trzech różnych gatunków."
   ]
  },
  {
   "cell_type": "code",
   "execution_count": 11,
   "id": "323f66b5-c90e-49a2-8ae4-8c1429d4208b",
   "metadata": {
    "deletable": false,
    "editable": false,
    "nbgrader": {
     "cell_type": "code",
     "checksum": "f7fe7ee6c9b066dfaf9e19506e9a2757",
     "grade": false,
     "grade_id": "cell-92d69974cc2d460d",
     "locked": true,
     "schema_version": 3,
     "solution": false,
     "task": false
    },
    "tags": []
   },
   "outputs": [
    {
     "data": {
      "text/html": [
       "<div>\n",
       "<style scoped>\n",
       "    .dataframe tbody tr th:only-of-type {\n",
       "        vertical-align: middle;\n",
       "    }\n",
       "\n",
       "    .dataframe tbody tr th {\n",
       "        vertical-align: top;\n",
       "    }\n",
       "\n",
       "    .dataframe thead th {\n",
       "        text-align: right;\n",
       "    }\n",
       "</style>\n",
       "<table border=\"1\" class=\"dataframe\">\n",
       "  <thead>\n",
       "    <tr style=\"text-align: right;\">\n",
       "      <th></th>\n",
       "      <th>species</th>\n",
       "      <th>island</th>\n",
       "      <th>bill_length_mm</th>\n",
       "      <th>bill_depth_mm</th>\n",
       "      <th>flipper_length_mm</th>\n",
       "      <th>body_mass_g</th>\n",
       "      <th>sex</th>\n",
       "    </tr>\n",
       "  </thead>\n",
       "  <tbody>\n",
       "    <tr>\n",
       "      <th>0</th>\n",
       "      <td>Adelie</td>\n",
       "      <td>Torgersen</td>\n",
       "      <td>39.1</td>\n",
       "      <td>18.7</td>\n",
       "      <td>181.0</td>\n",
       "      <td>3750.0</td>\n",
       "      <td>Male</td>\n",
       "    </tr>\n",
       "    <tr>\n",
       "      <th>1</th>\n",
       "      <td>Adelie</td>\n",
       "      <td>Torgersen</td>\n",
       "      <td>39.5</td>\n",
       "      <td>17.4</td>\n",
       "      <td>186.0</td>\n",
       "      <td>3800.0</td>\n",
       "      <td>Female</td>\n",
       "    </tr>\n",
       "    <tr>\n",
       "      <th>2</th>\n",
       "      <td>Adelie</td>\n",
       "      <td>Torgersen</td>\n",
       "      <td>40.3</td>\n",
       "      <td>18.0</td>\n",
       "      <td>195.0</td>\n",
       "      <td>3250.0</td>\n",
       "      <td>Female</td>\n",
       "    </tr>\n",
       "    <tr>\n",
       "      <th>3</th>\n",
       "      <td>Adelie</td>\n",
       "      <td>Torgersen</td>\n",
       "      <td>NaN</td>\n",
       "      <td>NaN</td>\n",
       "      <td>NaN</td>\n",
       "      <td>NaN</td>\n",
       "      <td>NaN</td>\n",
       "    </tr>\n",
       "    <tr>\n",
       "      <th>4</th>\n",
       "      <td>Adelie</td>\n",
       "      <td>Torgersen</td>\n",
       "      <td>36.7</td>\n",
       "      <td>19.3</td>\n",
       "      <td>193.0</td>\n",
       "      <td>3450.0</td>\n",
       "      <td>Female</td>\n",
       "    </tr>\n",
       "  </tbody>\n",
       "</table>\n",
       "</div>"
      ],
      "text/plain": [
       "  species     island  bill_length_mm  bill_depth_mm  flipper_length_mm  \\\n",
       "0  Adelie  Torgersen            39.1           18.7              181.0   \n",
       "1  Adelie  Torgersen            39.5           17.4              186.0   \n",
       "2  Adelie  Torgersen            40.3           18.0              195.0   \n",
       "3  Adelie  Torgersen             NaN            NaN                NaN   \n",
       "4  Adelie  Torgersen            36.7           19.3              193.0   \n",
       "\n",
       "   body_mass_g     sex  \n",
       "0       3750.0    Male  \n",
       "1       3800.0  Female  \n",
       "2       3250.0  Female  \n",
       "3          NaN     NaN  \n",
       "4       3450.0  Female  "
      ]
     },
     "execution_count": 11,
     "metadata": {},
     "output_type": "execute_result"
    }
   ],
   "source": [
    "penguins = sns.load_dataset(\"penguins\")\n",
    "penguins.head()"
   ]
  },
  {
   "cell_type": "markdown",
   "id": "88043ea6-c8a3-46f7-97f2-4d6fa5ac4067",
   "metadata": {
    "deletable": false,
    "editable": false,
    "nbgrader": {
     "cell_type": "markdown",
     "checksum": "ac46f66abeeb209b21a39c56b8ccac50",
     "grade": false,
     "grade_id": "cell-849d77421734387d",
     "locked": true,
     "schema_version": 3,
     "solution": false,
     "task": false
    },
    "tags": []
   },
   "source": [
    "#### a) \n",
    "\n",
    "Korzystając z funkcji `scipy.stats.shapiro()` zweryfikuj hipotezę, że głębokość dzioba pingwinów gatunku Gentoo ma rozkład normalny. W obliczeniach przyjmij poziom istotności 1 - alpha = 0.95.\n",
    "\n",
    "Zapisz obliczoną wartość pvalue do zmiennej `pvalue_1`, oraz przygotuj zmienną `H_1` zawierającą wynik testu statystycznego (0 - gdy wynik testu istotności nie daje podstaw do odrzucenia H0 na rzecz H1 na poziomie istotności 1-alpha, 1 - gdy następuje odrzucenie H0 na rzecz H1 na poziomie istotności 1-alpha).\n",
    "\n",
    "Uwagi do wykonania zadania:\n",
    " - ustaw następującą wartość argumentu funkcji wykonującej test statystyczny odpowiedzialnego za radzenie sobie z wartościami nan: `nan_policy=\"omit\"`."
   ]
  },
  {
   "cell_type": "code",
   "execution_count": 12,
   "id": "24d453e2-bae1-4274-9a74-e6c949558004",
   "metadata": {
    "deletable": false,
    "nbgrader": {
     "cell_type": "code",
     "checksum": "fe10b2a25d9c37762690d51d5c84fb9d",
     "grade": false,
     "grade_id": "cell-68b8d921ce8c1193",
     "locked": false,
     "schema_version": 3,
     "solution": true,
     "task": false
    },
    "tags": []
   },
   "outputs": [
    {
     "name": "stdout",
     "output_type": "stream",
     "text": [
      "0.02769509478233595 1\n"
     ]
    }
   ],
   "source": [
    "# YOUR CODE HERE\n",
    "gentoo = penguins[penguins[\"species\"] == \"Gentoo\"]\n",
    "\n",
    "bill_depth_mm = gentoo[\"bill_depth_mm\"]\n",
    "\n",
    "result = stats.shapiro(bill_depth_mm, nan_policy=\"omit\")\n",
    "pvalue_1 = result.pvalue\n",
    "\n",
    "level_significance = 0.95\n",
    "alpha = 1 - level_significance\n",
    "H_1 = 0 if result.pvalue >= alpha else 1\n",
    "\n",
    "print(pvalue_1, H_1)\n",
    "\n",
    "\n",
    "\n",
    "# Wersja 2 jeżeli pakiety nie są zaktualizowane i nie działa wersja 1\n",
    "\n",
    "#gentoo = penguins[penguins[\"species\"] == \"Gentoo\"]\n",
    "#bill_depth_mm = gentoo[\"bill_depth_mm\"].dropna()\n",
    "#result = stats.shapiro(bill_depth_mm)\n",
    "#pvalue_1 = result.pvalue\n",
    "#level_significance = 0.95\n",
    "#alpha = 1 - level_significance\n",
    "#H_1 = 0 if result.pvalue >= alpha else 1\n",
    "#print(pvalue_1, H_1)"
   ]
  },
  {
   "cell_type": "code",
   "execution_count": 13,
   "id": "b4673fca-ddcd-4ebd-b813-5db24db45ec5",
   "metadata": {
    "deletable": false,
    "editable": false,
    "nbgrader": {
     "cell_type": "code",
     "checksum": "d490d3f28c3d87165aeef791f8306f85",
     "grade": true,
     "grade_id": "cell-0fda5562348e41a2",
     "locked": true,
     "points": 2,
     "schema_version": 3,
     "solution": false,
     "task": false
    },
    "tags": []
   },
   "outputs": [],
   "source": [
    "# Komórka testowa\n",
    "assert np.isclose(pvalue_1, 0.027695094782335943)\n",
    "assert H_1 == 1"
   ]
  },
  {
   "cell_type": "markdown",
   "id": "bc45ce84-3e94-48cc-8382-f9179ac8343d",
   "metadata": {
    "deletable": false,
    "editable": false,
    "nbgrader": {
     "cell_type": "markdown",
     "checksum": "81a50df3e0b13cc0e3b7d0cca334a36b",
     "grade": false,
     "grade_id": "cell-dd9f3853e9d5b6ad",
     "locked": true,
     "schema_version": 3,
     "solution": false,
     "task": false
    },
    "tags": []
   },
   "source": [
    "#### b) \n",
    "\n",
    "Korzystając z funkcji `scipy.stats.ks_1samp()` lub `scipy.stats.kstest()` zweryfikuj hipotezę, że długość skrzydeł pingwinów gatunku Adelie ma rozkład normalny o wartości oczekiwanej 190 i odchyleniu standardowym 6. W obliczeniach przyjmij poziom istotności 1 - alpha = 0.9.\n",
    "\n",
    "Zapisz obliczoną wartość pvalue do zmiennej `pvalue_2`, oraz przygotuj zmienną `H_2` zawierającą wynik testu statystycznego (0 - gdy wynik testu istotności nie daje podstaw do odrzucenia H0 na rzecz H1 na poziomie istotności 1-alpha, 1 - gdy następuje odrzucenie H0 na rzecz H1 na poziomie istotności 1-alpha).\n",
    "\n",
    "Uwagi do wykonania zadania:\n",
    " - ustaw następującą wartość argumentu funkcji wykonującej test statystyczny odpowiedzialnego za radzenie sobie z wartościami nan: `nan_policy=\"omit\"`."
   ]
  },
  {
   "cell_type": "code",
   "execution_count": 14,
   "id": "d91e7801-91ed-4e75-b6e4-d350ebe9da3d",
   "metadata": {
    "deletable": false,
    "nbgrader": {
     "cell_type": "code",
     "checksum": "46c3110b227e38ab5dfe2e621b5380fa",
     "grade": false,
     "grade_id": "cell-373869550afb7c32",
     "locked": false,
     "schema_version": 3,
     "solution": true,
     "task": false
    },
    "tags": []
   },
   "outputs": [
    {
     "name": "stdout",
     "output_type": "stream",
     "text": [
      "0.4388010272246816 0\n"
     ]
    }
   ],
   "source": [
    "# YOUR CODE HERE\n",
    "#wartość oczekiwana 190 ma być\n",
    "\n",
    "adelie = penguins[penguins[\"species\"] == \"Adelie\"]\n",
    "\n",
    "flipper_length_mm= adelie[\"flipper_length_mm\"]\n",
    "\n",
    "# Określamy rozkład normalny\n",
    "mu = 190  # wartość zmieniona\n",
    "sigma = 6  \n",
    "cdf = stats.norm(mu, sigma).cdf\n",
    "\n",
    "# y test Kołmogorowa-Smirnowa\n",
    "statistic, pvalue_2 = stats.kstest(flipper_length_mm, cdf, alternative=\"two-sided\", nan_policy=\"omit\")\n",
    "\n",
    "level_significance_b = 0.9\n",
    "alpha_b = 1 - level_significance_b\n",
    "H_2 = 0 if pvalue_2 >= alpha_b else 1\n",
    "\n",
    "print(pvalue_2, H_2)\n",
    "\n",
    "\n",
    "\n",
    "# Wersja 2 jeżeli pakiety nie są zaktualizowane i nie działa wersja 1\n",
    "\n",
    "#adelie = penguins[penguins[\"species\"] == \"Adelie\"]\n",
    "#flipper_length_mm= adelie[\"flipper_length_mm\"].dropna()\n",
    "#mu = 190  # wartość zmieniona\n",
    "#sigma = 6  \n",
    "#cdf = stats.norm(mu, sigma).cdf\n",
    "#statistic, pvalue_2 = stats.kstest(flipper_length_mm, cdf, alternative=\"two-sided\")\n",
    "#level_significance_b = 0.9\n",
    "#alpha_b = 1 - level_significance_b\n",
    "#H_2 = 0 if pvalue_2 >= alpha_b else 1\n",
    "#print(pvalue_2, H_2)"
   ]
  },
  {
   "cell_type": "code",
   "execution_count": 15,
   "id": "74e03f5c-e87e-45ba-894a-c11255476200",
   "metadata": {
    "deletable": false,
    "editable": false,
    "nbgrader": {
     "cell_type": "code",
     "checksum": "d304b4fdce512a7130fc115bce5928f4",
     "grade": true,
     "grade_id": "cell-bb02e6b7e85667ce",
     "locked": true,
     "points": 2,
     "schema_version": 3,
     "solution": false,
     "task": false
    },
    "tags": []
   },
   "outputs": [],
   "source": [
    "# Komórka testowa\n",
    "assert np.isclose(pvalue_2, 0.4388010272246816)\n",
    "assert H_2 == 0"
   ]
  },
  {
   "cell_type": "markdown",
   "id": "f251d6f4-d7ab-4656-a455-59f3e754d437",
   "metadata": {
    "deletable": false,
    "editable": false,
    "nbgrader": {
     "cell_type": "markdown",
     "checksum": "d5c76201e894c3fa953d955202948ae8",
     "grade": false,
     "grade_id": "cell-df4b91eb59c2be8b",
     "locked": true,
     "schema_version": 3,
     "solution": false,
     "task": false
    },
    "tags": []
   },
   "source": [
    "#### c) \n",
    "\n",
    "Korzystając z funkcji `scipy.stats.chisquare()` zweryfikuj hipotezę, że długość skrzydeł pingwinów gatunku Adelie ma rozkład normalny o wartości oczekiwanej 190 i odchyleniu standardowym 6. W obliczeniach przyjmij poziom istotności 1 - alpha = 0.9.\n",
    "\n",
    "Zapisz obliczoną wartość pvalue do zmiennej `pvalue_3`, oraz przygotuj zmienną `H_3` zawierającą wynik testu statystycznego (0 - gdy wynik testu istotności nie daje podstaw do odrzucenia H0 na rzecz H1 na poziomie istotności 1-alpha, 1 - gdy następuje odrzucenie H0 na rzecz H1 na poziomie istotności 1-alpha).\n",
    "\n",
    "Schemat wykonania zadania:\n",
    "\n",
    "Uwagi do wykonanai zadania:\n",
    " - korzystając z funkcji `numpy.arange()` lub `numpy.linspace()` przygotuj macierz z granicami następujących przedziałów: [170, 173), [173, 176), ... , [209, 212],\n",
    " - korzystając z fukcji `numpy.histogram()` podziel zakres danych i zlicz ile wartości badanej cechy znajduje się w każdym z przedziałów,\n",
    " - korzystając z funkcji modułu `scipy.stats.norm` oblicz jakie jest prawdopodobieństwo wylosowania wartości z poszczególnych przedziałów dla testowanego rozkładu normalnego,\n",
    " - przelicz prawdopodobieństwa na liczebności toretyczne (ustandaryzuj je do sumy równej liczebności testowanego zestawu danych),\n",
    " - wykonaj test statystyczny korzysztając z funkcji `scipy.stats.chisquare()`."
   ]
  },
  {
   "cell_type": "code",
   "execution_count": 16,
   "id": "3e4fb9a0-dc26-4547-b997-8d573863a5dc",
   "metadata": {
    "deletable": false,
    "nbgrader": {
     "cell_type": "code",
     "checksum": "4db036f825db3deefa65d3ff88f4bb8f",
     "grade": false,
     "grade_id": "cell-e1bca3c9cb3d1768",
     "locked": false,
     "schema_version": 3,
     "solution": true,
     "task": false
    },
    "tags": []
   },
   "outputs": [
    {
     "name": "stdout",
     "output_type": "stream",
     "text": [
      "0.421664722071566 0\n"
     ]
    }
   ],
   "source": [
    "# YOUR CODE HERE\n",
    "wings = penguins[penguins['species'] == 'Adelie']['flipper_length_mm']\n",
    "matrix = np.arange(170, 215, 3)\n",
    "observed_freq, _ = np.histogram(wings, bins=matrix)\n",
    "mean = 190\n",
    "std = 6\n",
    "expected_probs = sp.stats.norm.cdf(matrix[1:], mean, std) - sp.stats.norm.cdf(matrix[:-1], mean, std)\n",
    "expected_freq = expected_probs * len(wings)\n",
    "expected_freq *= observed_freq.sum() / expected_freq.sum()\n",
    "chi2, pvalue_3 = sp.stats.chisquare(observed_freq, expected_freq)\n",
    "\n",
    "level_significance_c = 0.9\n",
    "alpha_c = 1 - level_significance_c\n",
    "H_3 = 0 if pvalue_3 >= alpha_c else 1\n",
    "\n",
    "print(pvalue_3, H_3)"
   ]
  },
  {
   "cell_type": "code",
   "execution_count": 17,
   "id": "8c1a7606-cd89-4a89-84c3-a638e9db02d1",
   "metadata": {
    "deletable": false,
    "editable": false,
    "nbgrader": {
     "cell_type": "code",
     "checksum": "6ec998de9a0faf483b176c65e1642796",
     "grade": true,
     "grade_id": "cell-f5ad00e21d45114d",
     "locked": true,
     "points": 4,
     "schema_version": 3,
     "solution": false,
     "task": false
    },
    "tags": []
   },
   "outputs": [],
   "source": [
    "# Komórka testowa\n",
    "assert np.isclose(pvalue_3, 0.4216647220715661)\n",
    "assert H_3 == 0"
   ]
  },
  {
   "cell_type": "markdown",
   "id": "59653f06-bbe0-4454-a107-77fce132d531",
   "metadata": {
    "deletable": false,
    "editable": false,
    "nbgrader": {
     "cell_type": "markdown",
     "checksum": "541a767d604f0ae97201ac09c3521fe0",
     "grade": false,
     "grade_id": "cell-b78c6d4542f91752",
     "locked": true,
     "schema_version": 3,
     "solution": false,
     "task": false
    },
    "tags": []
   },
   "source": [
    "### d)\n",
    "\n",
    "Korzystając z funkcji `scipy.stats.ks_2samp()` lub `scipy.stats.kstest()` zweryfikuj hipotezę, że długość skrzydeł pingwinów gatunku Adelie i Chinstrap mają taki sam rozkład statystyczny. W obliczeniach przyjmij poziom istotności 1 - alpha = 0.98.\n",
    "\n",
    "Zapisz obliczoną wartość pvalue do zmiennej `pvalue_4`, oraz przygotuj zmienną `H_4` zawierającą wynik testu statystycznego (0 - gdy wynik testu istotności nie daje podstaw do odrzucenia H0 na rzecz H1 na poziomie istotności 1-alpha, 1 - gdy następuje odrzucenie H0 na rzecz H1 na poziomie istotności 1-alpha).\n",
    "\n",
    "Uwagi do wykonania zadania:\n",
    " - ustaw następującą wartość argumentu funkcji wykonującej test statystyczny odpowiedzialnego za radzenie sobie z wartościami nan: `nan_policy=\"omit\"`."
   ]
  },
  {
   "cell_type": "code",
   "execution_count": 18,
   "id": "d8928e26-cb76-4f1d-adc1-95c11c89185f",
   "metadata": {
    "deletable": false,
    "nbgrader": {
     "cell_type": "code",
     "checksum": "92bf2e31e0696b31d3e2dbc325f58c58",
     "grade": false,
     "grade_id": "cell-d84d4214ea34220b",
     "locked": false,
     "schema_version": 3,
     "solution": true,
     "task": false
    },
    "tags": []
   },
   "outputs": [
    {
     "name": "stdout",
     "output_type": "stream",
     "text": [
      "5.6295807497561385e-06 1\n"
     ]
    }
   ],
   "source": [
    "# YOUR CODE HERE\n",
    "\n",
    "# Wyodrębnienie danych dla gatunków Adelie i Chinstrap\n",
    "adelie = penguins[penguins[\"species\"] == \"Adelie\"][\"flipper_length_mm\"].values\n",
    "chinstrap = penguins[penguins[\"species\"] == \"Chinstrap\"][\"flipper_length_mm\"].values\n",
    "\n",
    "# Przeprowadzenie testu Kołmogorowa-Smirnowa\n",
    "ks_stat, pvalue_4 = kstest(adelie, chinstrap, nan_policy=\"omit\")\n",
    "\n",
    "# Określenie wyniku testu statystycznego\n",
    "level_significance_d = 0.98\n",
    "alpha_d = 1 - level_significance_d\n",
    "H_4 =  0 if pvalue_4 >= alpha_d else 1\n",
    "\n",
    "print(pvalue_4, H_4)\n",
    "\n",
    "\n",
    "\n",
    "# Wersja 2 jeżeli pakiety nie są zaktualizowane i nie działa wersja 1\n",
    "\n",
    "#adelie = penguins[penguins[\"species\"] == \"Adelie\"][\"flipper_length_mm\"].dropna().values\n",
    "#chinstrap = penguins[penguins[\"species\"] == \"Chinstrap\"][\"flipper_length_mm\"].dropna().values\n",
    "#adelie = adelie[~np.isnan(adelie)]\n",
    "#chinstrap = chinstrap[~np.isnan(chinstrap)]\n",
    "#ks_stat, pvalue_4 = kstest(adelie, chinstrap)\n",
    "#level_significance_d = 0.98\n",
    "#alpha_d = 1 - level_significance_d\n",
    "#H_4 =  0 if pvalue_4 >= alpha_d else 1\n",
    "#print(pvalue_4, H_4)"
   ]
  },
  {
   "cell_type": "code",
   "execution_count": 19,
   "id": "12ccb5a2-f8ab-41a9-991b-0b2e259d01a7",
   "metadata": {
    "deletable": false,
    "editable": false,
    "nbgrader": {
     "cell_type": "code",
     "checksum": "d4086bf2937a8240e031a6cc791ee288",
     "grade": true,
     "grade_id": "cell-276cfc831fad8ee5",
     "locked": true,
     "points": 2,
     "schema_version": 3,
     "solution": false,
     "task": false
    },
    "tags": []
   },
   "outputs": [],
   "source": [
    "assert np.isclose(pvalue_4, 5.6295807497561385e-06)\n",
    "assert H_4 == 1"
   ]
  }
 ],
 "metadata": {
  "kernelspec": {
   "display_name": "Python 3 (ipykernel)",
   "language": "python",
   "name": "python3"
  },
  "language_info": {
   "codemirror_mode": {
    "name": "ipython",
    "version": 3
   },
   "file_extension": ".py",
   "mimetype": "text/x-python",
   "name": "python",
   "nbconvert_exporter": "python",
   "pygments_lexer": "ipython3",
   "version": "3.11.8"
  }
 },
 "nbformat": 4,
 "nbformat_minor": 5
}
